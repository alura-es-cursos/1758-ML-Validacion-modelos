{
 "cells": [
  {
   "cell_type": "code",
   "execution_count": 1,
   "metadata": {
    "colab": {
     "base_uri": "https://localhost:8080/",
     "height": 195
    },
    "id": "OT__Z1j81_KL",
    "outputId": "6a0b3d16-05ec-48fa-f3f7-3e37701f1069"
   },
   "outputs": [
    {
     "data": {
      "text/html": [
       "<div>\n",
       "<style scoped>\n",
       "    .dataframe tbody tr th:only-of-type {\n",
       "        vertical-align: middle;\n",
       "    }\n",
       "\n",
       "    .dataframe tbody tr th {\n",
       "        vertical-align: top;\n",
       "    }\n",
       "\n",
       "    .dataframe thead th {\n",
       "        text-align: right;\n",
       "    }\n",
       "</style>\n",
       "<table border=\"1\" class=\"dataframe\">\n",
       "  <thead>\n",
       "    <tr style=\"text-align: right;\">\n",
       "      <th></th>\n",
       "      <th>precio</th>\n",
       "      <th>vendido</th>\n",
       "      <th>edad_del_modelo</th>\n",
       "      <th>km_por_ano</th>\n",
       "    </tr>\n",
       "  </thead>\n",
       "  <tbody>\n",
       "    <tr>\n",
       "      <th>0</th>\n",
       "      <td>30941.02</td>\n",
       "      <td>1</td>\n",
       "      <td>18</td>\n",
       "      <td>35085.22134</td>\n",
       "    </tr>\n",
       "    <tr>\n",
       "      <th>1</th>\n",
       "      <td>40557.96</td>\n",
       "      <td>1</td>\n",
       "      <td>20</td>\n",
       "      <td>12622.05362</td>\n",
       "    </tr>\n",
       "    <tr>\n",
       "      <th>2</th>\n",
       "      <td>89627.50</td>\n",
       "      <td>0</td>\n",
       "      <td>12</td>\n",
       "      <td>11440.79806</td>\n",
       "    </tr>\n",
       "    <tr>\n",
       "      <th>3</th>\n",
       "      <td>95276.14</td>\n",
       "      <td>0</td>\n",
       "      <td>3</td>\n",
       "      <td>43167.32682</td>\n",
       "    </tr>\n",
       "    <tr>\n",
       "      <th>4</th>\n",
       "      <td>117384.68</td>\n",
       "      <td>1</td>\n",
       "      <td>4</td>\n",
       "      <td>12770.11290</td>\n",
       "    </tr>\n",
       "  </tbody>\n",
       "</table>\n",
       "</div>"
      ],
      "text/plain": [
       "      precio  vendido  edad_del_modelo   km_por_ano\n",
       "0   30941.02        1               18  35085.22134\n",
       "1   40557.96        1               20  12622.05362\n",
       "2   89627.50        0               12  11440.79806\n",
       "3   95276.14        0                3  43167.32682\n",
       "4  117384.68        1                4  12770.11290"
      ]
     },
     "execution_count": 1,
     "metadata": {
      "tags": []
     },
     "output_type": "execute_result"
    }
   ],
   "source": [
    "import pandas as pd\n",
    "\n",
    "uri = \"https://gist.githubusercontent.com/jessicadesousa/56ac5efd1b9f2a06ef503485e904a203/raw/d829a7204ad55506644f4a7058090c84424217e7/machine-learning-carros-simulacion.csv\"\n",
    "datos = pd.read_csv(uri)\n",
    "datos.head()"
   ]
  },
  {
   "cell_type": "code",
   "execution_count": 2,
   "metadata": {
    "colab": {
     "base_uri": "https://localhost:8080/"
    },
    "id": "4K_cO3OY2Wps",
    "outputId": "ba1e7dfa-7e16-4ee0-a185-0cf997d8ca3c"
   },
   "outputs": [
    {
     "name": "stdout",
     "output_type": "stream",
     "text": [
      "Entrenaremos con 7500 elementos y evaluaremos con 2500 elementos\n"
     ]
    }
   ],
   "source": [
    "import numpy as np\n",
    "from sklearn.model_selection import train_test_split\n",
    "from sklearn.metrics import accuracy_score\n",
    "\n",
    "x = datos[[\"precio\", \"edad_del_modelo\", \"km_por_ano\"]]\n",
    "y = datos[\"vendido\"]\n",
    "\n",
    "SEED = 158020\n",
    "np.random.seed(SEED)\n",
    "\n",
    "train_x, test_x, train_y, test_y = train_test_split(x, y, \n",
    "                                                    test_size = 0.25, \n",
    "                                                    stratify = y)\n",
    "\n",
    "print(\"Entrenaremos con %d elementos y evaluaremos con %d elementos\" %(len(train_x), len(test_y)))"
   ]
  },
  {
   "cell_type": "code",
   "execution_count": 3,
   "metadata": {
    "colab": {
     "base_uri": "https://localhost:8080/"
    },
    "id": "-5J1gAVv3gsD",
    "outputId": "808812e1-0a01-4a3f-b56d-a33c67e64ea9"
   },
   "outputs": [
    {
     "name": "stdout",
     "output_type": "stream",
     "text": [
      "La exactitud(accuracy) del dummy stratified fue 50.96%\n"
     ]
    }
   ],
   "source": [
    "from sklearn.dummy import DummyClassifier\n",
    "\n",
    "dummy_stratified = DummyClassifier(strategy=\"stratified\")\n",
    "dummy_stratified.fit(train_x, train_y)\n",
    "accuracy = dummy_stratified.score(test_x, test_y) * 100\n",
    "\n",
    "print(\"La exactitud(accuracy) del dummy stratified fue %.2f%%\" % accuracy)"
   ]
  },
  {
   "cell_type": "code",
   "execution_count": 4,
   "metadata": {
    "colab": {
     "base_uri": "https://localhost:8080/"
    },
    "id": "mPdliMf45C-x",
    "outputId": "06f66dee-51bd-4cb7-cf1d-f82df36b371c"
   },
   "outputs": [
    {
     "name": "stdout",
     "output_type": "stream",
     "text": [
      "La exactitud(accuracy) fue 71.92%\n"
     ]
    }
   ],
   "source": [
    "from sklearn.tree import DecisionTreeClassifier\n",
    "\n",
    "SEED = 158020\n",
    "np.random.seed(SEED)\n",
    "\n",
    "modelo = DecisionTreeClassifier(max_depth=2)\n",
    "modelo.fit(train_x, train_y)\n",
    "\n",
    "predicciones = modelo.predict(test_x)\n",
    "\n",
    "accuracy = accuracy_score(test_y, predicciones) * 100\n",
    "print(\"La exactitud(accuracy) fue %.2f%%\" % accuracy)"
   ]
  },
  {
   "cell_type": "code",
   "execution_count": 5,
   "metadata": {
    "colab": {
     "base_uri": "https://localhost:8080/"
    },
    "id": "kNvoQGrq81vi",
    "outputId": "80d62123-f920-45a5-f9cd-742673bb1b7e"
   },
   "outputs": [
    {
     "name": "stdout",
     "output_type": "stream",
     "text": [
      "Nuestro intervalo de confianza para cv = 3 es [74.99, 76.57]\n"
     ]
    }
   ],
   "source": [
    "from sklearn.model_selection import cross_validate\n",
    "\n",
    "SEED = 3\n",
    "np.random.seed(SEED)\n",
    "\n",
    "modelo = DecisionTreeClassifier(max_depth=2)\n",
    "\n",
    "resultados = cross_validate(modelo, x, y, cv=3)\n",
    "media = resultados['test_score'].mean()\n",
    "desviacion_standard = resultados['test_score'].std()\n",
    "\n",
    "print(\"Nuestro intervalo de confianza para cv = 3 es [%.2f, %.2f]\" %((media - 2*desviacion_standard)*100, (media + 2*desviacion_standard)*100))"
   ]
  },
  {
   "cell_type": "code",
   "execution_count": 6,
   "metadata": {
    "colab": {
     "base_uri": "https://localhost:8080/"
    },
    "id": "tFoM41ArD-Ct",
    "outputId": "f3f9d94f-14db-4cbd-b699-a2ad8e5f2182"
   },
   "outputs": [
    {
     "name": "stdout",
     "output_type": "stream",
     "text": [
      "Nuestro intervalo de confianza para cv = 5 es [75.21, 76.35]\n"
     ]
    }
   ],
   "source": [
    "modelo = DecisionTreeClassifier(max_depth=2)\n",
    "\n",
    "resultados = cross_validate(modelo, x, y, cv=5)\n",
    "media = resultados['test_score'].mean()\n",
    "desviacion_standard = resultados['test_score'].std()\n",
    "\n",
    "print(\"Nuestro intervalo de confianza para cv = 5 es [%.2f, %.2f]\" %((media - 2*desviacion_standard)*100, (media + 2*desviacion_standard)*100))"
   ]
  },
  {
   "cell_type": "code",
   "execution_count": 7,
   "metadata": {
    "colab": {
     "base_uri": "https://localhost:8080/"
    },
    "id": "IJ4nsHFVE_1-",
    "outputId": "836e4024-c5e1-4125-b6e2-dabb87bc721a"
   },
   "outputs": [
    {
     "name": "stdout",
     "output_type": "stream",
     "text": [
      "Nuestro intervalo de confianza para cv = 10 es [74.24, 77.32]\n"
     ]
    }
   ],
   "source": [
    "SEED = 123\n",
    "np.random.seed(SEED)\n",
    "\n",
    "modelo = DecisionTreeClassifier(max_depth=2)\n",
    "\n",
    "resultados = cross_validate(modelo, x, y, cv=10)\n",
    "media = resultados['test_score'].mean()\n",
    "desviacion_standard = resultados['test_score'].std()\n",
    "\n",
    "print(\"Nuestro intervalo de confianza para cv = 10 es [%.2f, %.2f]\" %((media - 2*desviacion_standard)*100, (media + 2*desviacion_standard)*100))"
   ]
  },
  {
   "cell_type": "code",
   "execution_count": 8,
   "metadata": {
    "id": "kPP-KLXMD0U_"
   },
   "outputs": [],
   "source": [
    "def imprime_resultados(resultados):\n",
    "  media = resultados['test_score'].mean()\n",
    "  desviacion_standard = resultados['test_score'].std()\n",
    "\n",
    "  print(\"Nuestra media es %.2f\" %(media*100))\n",
    "  print(\"Nuestro intervalo de confianza es [%.2f, %.2f]\" %((media - 2*desviacion_standard)*100, (media + 2*desviacion_standard)*100))"
   ]
  },
  {
   "cell_type": "code",
   "execution_count": 9,
   "metadata": {
    "colab": {
     "base_uri": "https://localhost:8080/"
    },
    "id": "AWQpBON8FDAb",
    "outputId": "10ea72c1-71fc-4649-8c32-8a8c05a2bd3a"
   },
   "outputs": [
    {
     "name": "stdout",
     "output_type": "stream",
     "text": [
      "Nuestra media es 75.78\n",
      "Nuestro intervalo de confianza es [74.37, 77.19]\n"
     ]
    }
   ],
   "source": [
    "from sklearn.model_selection import KFold\n",
    "\n",
    "SEED = 123\n",
    "np.random.seed(SEED)\n",
    "\n",
    "cv = KFold(n_splits=10)\n",
    "\n",
    "modelo = DecisionTreeClassifier(max_depth=2)\n",
    "\n",
    "resultados = cross_validate(modelo, x, y, cv=cv)\n",
    "imprime_resultados(resultados)"
   ]
  },
  {
   "cell_type": "code",
   "execution_count": 10,
   "metadata": {
    "colab": {
     "base_uri": "https://localhost:8080/"
    },
    "id": "jKcYa8HuEUlg",
    "outputId": "c1d0445c-6c97-47a7-c78f-d25e58a4d695"
   },
   "outputs": [
    {
     "name": "stdout",
     "output_type": "stream",
     "text": [
      "Nuestra media es 75.79\n",
      "Nuestro intervalo de confianza es [72.01, 79.57]\n"
     ]
    }
   ],
   "source": [
    "SEED = 123\n",
    "np.random.seed(SEED)\n",
    "\n",
    "cv = KFold(n_splits=10, shuffle=True)\n",
    "\n",
    "modelo = DecisionTreeClassifier(max_depth=2)\n",
    "\n",
    "resultados = cross_validate(modelo, x, y, cv=cv)\n",
    "imprime_resultados(resultados)"
   ]
  },
  {
   "cell_type": "markdown",
   "metadata": {
    "id": "a_RbtZaUKCWf"
   },
   "source": [
    "# Simular datos ordenados - mala suerte"
   ]
  },
  {
   "cell_type": "code",
   "execution_count": 11,
   "metadata": {
    "colab": {
     "base_uri": "https://localhost:8080/",
     "height": 195
    },
    "id": "kMNYL3ufKFMh",
    "outputId": "46509b9c-a63d-4b95-e53e-eb8fcbf0a6a2"
   },
   "outputs": [
    {
     "data": {
      "text/html": [
       "<div>\n",
       "<style scoped>\n",
       "    .dataframe tbody tr th:only-of-type {\n",
       "        vertical-align: middle;\n",
       "    }\n",
       "\n",
       "    .dataframe tbody tr th {\n",
       "        vertical-align: top;\n",
       "    }\n",
       "\n",
       "    .dataframe thead th {\n",
       "        text-align: right;\n",
       "    }\n",
       "</style>\n",
       "<table border=\"1\" class=\"dataframe\">\n",
       "  <thead>\n",
       "    <tr style=\"text-align: right;\">\n",
       "      <th></th>\n",
       "      <th>precio</th>\n",
       "      <th>vendido</th>\n",
       "      <th>edad_del_modelo</th>\n",
       "      <th>km_por_ano</th>\n",
       "    </tr>\n",
       "  </thead>\n",
       "  <tbody>\n",
       "    <tr>\n",
       "      <th>4999</th>\n",
       "      <td>74023.29</td>\n",
       "      <td>0</td>\n",
       "      <td>12</td>\n",
       "      <td>24812.80412</td>\n",
       "    </tr>\n",
       "    <tr>\n",
       "      <th>5322</th>\n",
       "      <td>84843.49</td>\n",
       "      <td>0</td>\n",
       "      <td>13</td>\n",
       "      <td>23095.63834</td>\n",
       "    </tr>\n",
       "    <tr>\n",
       "      <th>5319</th>\n",
       "      <td>83100.27</td>\n",
       "      <td>0</td>\n",
       "      <td>19</td>\n",
       "      <td>36240.72746</td>\n",
       "    </tr>\n",
       "    <tr>\n",
       "      <th>5316</th>\n",
       "      <td>87932.13</td>\n",
       "      <td>0</td>\n",
       "      <td>16</td>\n",
       "      <td>32249.56426</td>\n",
       "    </tr>\n",
       "    <tr>\n",
       "      <th>5315</th>\n",
       "      <td>77937.01</td>\n",
       "      <td>0</td>\n",
       "      <td>15</td>\n",
       "      <td>28414.50704</td>\n",
       "    </tr>\n",
       "  </tbody>\n",
       "</table>\n",
       "</div>"
      ],
      "text/plain": [
       "        precio  vendido  edad_del_modelo   km_por_ano\n",
       "4999  74023.29        0               12  24812.80412\n",
       "5322  84843.49        0               13  23095.63834\n",
       "5319  83100.27        0               19  36240.72746\n",
       "5316  87932.13        0               16  32249.56426\n",
       "5315  77937.01        0               15  28414.50704"
      ]
     },
     "execution_count": 11,
     "metadata": {
      "tags": []
     },
     "output_type": "execute_result"
    }
   ],
   "source": [
    "datos_ordenados = datos.sort_values(by=\"vendido\", ascending=True)\n",
    "\n",
    "x_ordenados = datos_ordenados[[\"precio\", \"edad_del_modelo\", \"km_por_ano\"]]\n",
    "y_ordenados = datos_ordenados[\"vendido\"]\n",
    "datos_ordenados.head()"
   ]
  },
  {
   "cell_type": "code",
   "execution_count": 12,
   "metadata": {
    "colab": {
     "base_uri": "https://localhost:8080/"
    },
    "id": "h07oUhi_KUxu",
    "outputId": "c6dea0a3-c0ed-4019-c614-dbe8bef2379d"
   },
   "outputs": [
    {
     "name": "stdout",
     "output_type": "stream",
     "text": [
      "Nuestra media es 57.84\n",
      "Nuestro intervalo de confianza es [34.29, 81.39]\n"
     ]
    }
   ],
   "source": [
    "cv = KFold(n_splits=10)\n",
    "\n",
    "modelo = DecisionTreeClassifier(max_depth=2)\n",
    "\n",
    "resultados = cross_validate(modelo, x_ordenados, y_ordenados, cv=cv)\n",
    "imprime_resultados(resultados)"
   ]
  },
  {
   "cell_type": "code",
   "execution_count": 13,
   "metadata": {
    "colab": {
     "base_uri": "https://localhost:8080/"
    },
    "id": "eO48lsgDKocE",
    "outputId": "69dd1365-27b5-4781-83ab-c62aeb049f24"
   },
   "outputs": [
    {
     "name": "stdout",
     "output_type": "stream",
     "text": [
      "Nuestra media es 75.79\n",
      "Nuestro intervalo de confianza es [73.06, 78.52]\n"
     ]
    }
   ],
   "source": [
    "cv = KFold(n_splits=10, shuffle=True)\n",
    "\n",
    "modelo = DecisionTreeClassifier(max_depth=2)\n",
    "\n",
    "resultados = cross_validate(modelo, x_ordenados, y_ordenados, cv=cv)\n",
    "imprime_resultados(resultados)"
   ]
  },
  {
   "cell_type": "code",
   "execution_count": 14,
   "metadata": {
    "colab": {
     "base_uri": "https://localhost:8080/"
    },
    "id": "8iPTHk_6K5R7",
    "outputId": "b8b78b66-5111-43e8-f4a4-4ac6858a97a6"
   },
   "outputs": [
    {
     "name": "stdout",
     "output_type": "stream",
     "text": [
      "Nuestra media es 75.78\n",
      "Nuestro intervalo de confianza es [73.83, 77.73]\n"
     ]
    }
   ],
   "source": [
    "from sklearn.model_selection import StratifiedKFold\n",
    "\n",
    "cv = StratifiedKFold(n_splits=10)\n",
    "\n",
    "modelo = DecisionTreeClassifier(max_depth=2)\n",
    "\n",
    "resultados = cross_validate(modelo, x_ordenados, y_ordenados, cv=cv)\n",
    "imprime_resultados(resultados)"
   ]
  },
  {
   "cell_type": "code",
   "execution_count": 15,
   "metadata": {
    "colab": {
     "base_uri": "https://localhost:8080/"
    },
    "id": "e0BM5E3WLYaX",
    "outputId": "0403596f-5bd7-4ce5-dd55-ccc8759c2d57"
   },
   "outputs": [
    {
     "name": "stdout",
     "output_type": "stream",
     "text": [
      "Nuestra media es 75.78\n",
      "Nuestro intervalo de confianza es [73.36, 78.20]\n"
     ]
    }
   ],
   "source": [
    "cv = StratifiedKFold(n_splits=10, shuffle=True)\n",
    "\n",
    "modelo = DecisionTreeClassifier(max_depth=2)\n",
    "\n",
    "resultados = cross_validate(modelo, x_ordenados, y_ordenados, cv=cv)\n",
    "imprime_resultados(resultados)"
   ]
  }
 ],
 "metadata": {
  "colab": {
   "name": "Machine_learning_evaluacion_modelos.ipynb",
   "provenance": []
  },
  "kernelspec": {
   "display_name": "u-homework",
   "language": "python",
   "name": "python3"
  },
  "language_info": {
   "codemirror_mode": {
    "name": "ipython",
    "version": 3
   },
   "file_extension": ".py",
   "mimetype": "text/x-python",
   "name": "python",
   "nbconvert_exporter": "python",
   "pygments_lexer": "ipython3",
   "version": "3.6.12"
  }
 },
 "nbformat": 4,
 "nbformat_minor": 1
}
