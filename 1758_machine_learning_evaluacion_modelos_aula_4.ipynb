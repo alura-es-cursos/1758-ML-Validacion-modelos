{
  "nbformat": 4,
  "nbformat_minor": 0,
  "metadata": {
    "colab": {
      "name": "1758-machine-learning-evaluacion-modelos-aula-5.ipynb",
      "provenance": []
    },
    "kernelspec": {
      "name": "python3",
      "display_name": "Python 3"
    }
  },
  "cells": [
    {
      "cell_type": "code",
      "metadata": {
        "id": "OT__Z1j81_KL",
        "colab": {
          "base_uri": "https://localhost:8080/",
          "height": 195
        },
        "outputId": "49bbb4b3-3b88-4534-f232-8cafcfe1a1b7"
      },
      "source": [
        "import pandas as pd\n",
        "\n",
        "uri = \"https://gist.githubusercontent.com/jessicadesousa/56ac5efd1b9f2a06ef503485e904a203/raw/d829a7204ad55506644f4a7058090c84424217e7/machine-learning-carros-simulacion.csv\"\n",
        "datos = pd.read_csv(uri)\n",
        "datos.head()"
      ],
      "execution_count": 1,
      "outputs": [
        {
          "output_type": "execute_result",
          "data": {
            "text/html": [
              "<div>\n",
              "<style scoped>\n",
              "    .dataframe tbody tr th:only-of-type {\n",
              "        vertical-align: middle;\n",
              "    }\n",
              "\n",
              "    .dataframe tbody tr th {\n",
              "        vertical-align: top;\n",
              "    }\n",
              "\n",
              "    .dataframe thead th {\n",
              "        text-align: right;\n",
              "    }\n",
              "</style>\n",
              "<table border=\"1\" class=\"dataframe\">\n",
              "  <thead>\n",
              "    <tr style=\"text-align: right;\">\n",
              "      <th></th>\n",
              "      <th>precio</th>\n",
              "      <th>vendido</th>\n",
              "      <th>edad_del_modelo</th>\n",
              "      <th>km_por_ano</th>\n",
              "    </tr>\n",
              "  </thead>\n",
              "  <tbody>\n",
              "    <tr>\n",
              "      <th>0</th>\n",
              "      <td>30941.02</td>\n",
              "      <td>1</td>\n",
              "      <td>18</td>\n",
              "      <td>35085.22134</td>\n",
              "    </tr>\n",
              "    <tr>\n",
              "      <th>1</th>\n",
              "      <td>40557.96</td>\n",
              "      <td>1</td>\n",
              "      <td>20</td>\n",
              "      <td>12622.05362</td>\n",
              "    </tr>\n",
              "    <tr>\n",
              "      <th>2</th>\n",
              "      <td>89627.50</td>\n",
              "      <td>0</td>\n",
              "      <td>12</td>\n",
              "      <td>11440.79806</td>\n",
              "    </tr>\n",
              "    <tr>\n",
              "      <th>3</th>\n",
              "      <td>95276.14</td>\n",
              "      <td>0</td>\n",
              "      <td>3</td>\n",
              "      <td>43167.32682</td>\n",
              "    </tr>\n",
              "    <tr>\n",
              "      <th>4</th>\n",
              "      <td>117384.68</td>\n",
              "      <td>1</td>\n",
              "      <td>4</td>\n",
              "      <td>12770.11290</td>\n",
              "    </tr>\n",
              "  </tbody>\n",
              "</table>\n",
              "</div>"
            ],
            "text/plain": [
              "      precio  vendido  edad_del_modelo   km_por_ano\n",
              "0   30941.02        1               18  35085.22134\n",
              "1   40557.96        1               20  12622.05362\n",
              "2   89627.50        0               12  11440.79806\n",
              "3   95276.14        0                3  43167.32682\n",
              "4  117384.68        1                4  12770.11290"
            ]
          },
          "metadata": {
            "tags": []
          },
          "execution_count": 1
        }
      ]
    },
    {
      "cell_type": "code",
      "metadata": {
        "id": "4K_cO3OY2Wps",
        "colab": {
          "base_uri": "https://localhost:8080/"
        },
        "outputId": "baa6d2bf-11ec-4908-9fc8-c9e35b6a7426"
      },
      "source": [
        "import numpy as np\n",
        "from sklearn.model_selection import train_test_split\n",
        "from sklearn.metrics import accuracy_score\n",
        "\n",
        "x = datos[[\"precio\", \"edad_del_modelo\", \"km_por_ano\"]]\n",
        "y = datos[\"vendido\"]\n",
        "\n",
        "SEED = 158020\n",
        "np.random.seed(SEED)\n",
        "\n",
        "train_x, test_x, train_y, test_y = train_test_split(x, y, \n",
        "                                                    test_size = 0.25, \n",
        "                                                    stratify = y)\n",
        "\n",
        "print(\"Entrenaremos con %d elementos y evaluaremos con %d elementos\" %(len(train_x), len(test_y)))"
      ],
      "execution_count": 2,
      "outputs": [
        {
          "output_type": "stream",
          "text": [
            "Entrenaremos con 7500 elementos y evaluaremos con 2500 elementos\n"
          ],
          "name": "stdout"
        }
      ]
    },
    {
      "cell_type": "code",
      "metadata": {
        "id": "-5J1gAVv3gsD",
        "colab": {
          "base_uri": "https://localhost:8080/"
        },
        "outputId": "88b535c9-0a56-4fa0-97fd-175b5cd9f616"
      },
      "source": [
        "from sklearn.dummy import DummyClassifier\n",
        "\n",
        "dummy_stratified = DummyClassifier(strategy=\"stratified\")\n",
        "dummy_stratified.fit(train_x, train_y)\n",
        "accuracy = dummy_stratified.score(test_x, test_y) * 100\n",
        "\n",
        "print(\"La exactitud(accuracy) del dummy stratified fue %.2f%%\" % accuracy)"
      ],
      "execution_count": 3,
      "outputs": [
        {
          "output_type": "stream",
          "text": [
            "La exactitud(accuracy) del dummy stratified fue 50.96%\n"
          ],
          "name": "stdout"
        }
      ]
    },
    {
      "cell_type": "code",
      "metadata": {
        "id": "mPdliMf45C-x",
        "colab": {
          "base_uri": "https://localhost:8080/"
        },
        "outputId": "86ae9328-711a-4dc7-8ebb-450aac304350"
      },
      "source": [
        "from sklearn.tree import DecisionTreeClassifier\n",
        "\n",
        "SEED = 158020\n",
        "np.random.seed(SEED)\n",
        "\n",
        "modelo = DecisionTreeClassifier(max_depth=2)\n",
        "modelo.fit(train_x, train_y)\n",
        "\n",
        "predicciones = modelo.predict(test_x)\n",
        "\n",
        "accuracy = accuracy_score(test_y, predicciones) * 100\n",
        "print(\"La exactitud(accuracy) fue %.2f%%\" % accuracy)"
      ],
      "execution_count": 4,
      "outputs": [
        {
          "output_type": "stream",
          "text": [
            "La exactitud(accuracy) fue 71.92%\n"
          ],
          "name": "stdout"
        }
      ]
    },
    {
      "cell_type": "code",
      "metadata": {
        "id": "kNvoQGrq81vi",
        "colab": {
          "base_uri": "https://localhost:8080/"
        },
        "outputId": "ee9a1f49-ac86-4b73-dde9-fe2cf7706132"
      },
      "source": [
        "from sklearn.model_selection import cross_validate\n",
        "\n",
        "SEED = 3\n",
        "np.random.seed(SEED)\n",
        "\n",
        "modelo = DecisionTreeClassifier(max_depth=2)\n",
        "\n",
        "resultados = cross_validate(modelo, x, y, cv=3)\n",
        "media = resultados['test_score'].mean()\n",
        "desviacion_standard = resultados['test_score'].std()\n",
        "\n",
        "print(\"Nuestro intervalo de confianza para cv = 3 es [%.2f, %.2f]\" %((media - 2*desviacion_standard)*100, (media + 2*desviacion_standard)*100))"
      ],
      "execution_count": 5,
      "outputs": [
        {
          "output_type": "stream",
          "text": [
            "Nuestro intervalo de confianza para cv = 3 es [74.99, 76.57]\n"
          ],
          "name": "stdout"
        }
      ]
    },
    {
      "cell_type": "code",
      "metadata": {
        "id": "tFoM41ArD-Ct",
        "colab": {
          "base_uri": "https://localhost:8080/"
        },
        "outputId": "06e06a90-45ab-4762-c5ca-65350a223329"
      },
      "source": [
        "modelo = DecisionTreeClassifier(max_depth=2)\n",
        "\n",
        "resultados = cross_validate(modelo, x, y, cv=5)\n",
        "media = resultados['test_score'].mean()\n",
        "desviacion_standard = resultados['test_score'].std()\n",
        "\n",
        "print(\"Nuestro intervalo de confianza para cv = 5 es [%.2f, %.2f]\" %((media - 2*desviacion_standard)*100, (media + 2*desviacion_standard)*100))"
      ],
      "execution_count": 6,
      "outputs": [
        {
          "output_type": "stream",
          "text": [
            "Nuestro intervalo de confianza para cv = 5 es [75.21, 76.35]\n"
          ],
          "name": "stdout"
        }
      ]
    },
    {
      "cell_type": "code",
      "metadata": {
        "id": "IJ4nsHFVE_1-",
        "colab": {
          "base_uri": "https://localhost:8080/"
        },
        "outputId": "f4a02ea4-99b3-4545-8efd-4ce9b8eac2fe"
      },
      "source": [
        "SEED = 123\n",
        "np.random.seed(SEED)\n",
        "\n",
        "modelo = DecisionTreeClassifier(max_depth=2)\n",
        "\n",
        "resultados = cross_validate(modelo, x, y, cv=10)\n",
        "media = resultados['test_score'].mean()\n",
        "desviacion_standard = resultados['test_score'].std()\n",
        "\n",
        "print(\"Nuestro intervalo de confianza para cv = 10 es [%.2f, %.2f]\" %((media - 2*desviacion_standard)*100, (media + 2*desviacion_standard)*100))"
      ],
      "execution_count": 7,
      "outputs": [
        {
          "output_type": "stream",
          "text": [
            "Nuestro intervalo de confianza para cv = 10 es [74.24, 77.32]\n"
          ],
          "name": "stdout"
        }
      ]
    },
    {
      "cell_type": "code",
      "metadata": {
        "id": "kPP-KLXMD0U_"
      },
      "source": [
        "def imprime_resultados(resultados):\n",
        "  media = resultados['test_score'].mean()\n",
        "  desviacion_standard = resultados['test_score'].std()\n",
        "\n",
        "  print(\"Nuestra media es %.2f\" %(media*100))\n",
        "  print(\"Nuestro intervalo de confianza es [%.2f, %.2f]\" %((media - 2*desviacion_standard)*100, (media + 2*desviacion_standard)*100))"
      ],
      "execution_count": 8,
      "outputs": []
    },
    {
      "cell_type": "code",
      "metadata": {
        "id": "AWQpBON8FDAb",
        "colab": {
          "base_uri": "https://localhost:8080/"
        },
        "outputId": "9556d21c-37a7-4e59-f2ae-bdb9ffa2a6dd"
      },
      "source": [
        "from sklearn.model_selection import KFold\n",
        "\n",
        "SEED = 123\n",
        "np.random.seed(SEED)\n",
        "\n",
        "cv = KFold(n_splits=10)\n",
        "\n",
        "modelo = DecisionTreeClassifier(max_depth=2)\n",
        "\n",
        "resultados = cross_validate(modelo, x, y, cv=cv)\n",
        "imprime_resultados(resultados)"
      ],
      "execution_count": 9,
      "outputs": [
        {
          "output_type": "stream",
          "text": [
            "Nuestra media es 75.78\n",
            "Nuestro intervalo de confianza es [74.37, 77.19]\n"
          ],
          "name": "stdout"
        }
      ]
    },
    {
      "cell_type": "code",
      "metadata": {
        "id": "jKcYa8HuEUlg",
        "colab": {
          "base_uri": "https://localhost:8080/"
        },
        "outputId": "dd1345b5-6dce-477c-af92-29cb035d3a4f"
      },
      "source": [
        "SEED = 123\n",
        "np.random.seed(SEED)\n",
        "\n",
        "cv = KFold(n_splits=10, shuffle=True)\n",
        "\n",
        "modelo = DecisionTreeClassifier(max_depth=2)\n",
        "\n",
        "resultados = cross_validate(modelo, x, y, cv=cv)\n",
        "imprime_resultados(resultados)"
      ],
      "execution_count": 10,
      "outputs": [
        {
          "output_type": "stream",
          "text": [
            "Nuestra media es 75.79\n",
            "Nuestro intervalo de confianza es [72.01, 79.57]\n"
          ],
          "name": "stdout"
        }
      ]
    },
    {
      "cell_type": "markdown",
      "metadata": {
        "id": "a_RbtZaUKCWf"
      },
      "source": [
        "# Simular datos ordenados - mala suerte"
      ]
    },
    {
      "cell_type": "code",
      "metadata": {
        "id": "kMNYL3ufKFMh",
        "colab": {
          "base_uri": "https://localhost:8080/",
          "height": 195
        },
        "outputId": "20378031-d400-4234-f8de-dfd0fe9eedeb"
      },
      "source": [
        "datos_ordenados = datos.sort_values(by=\"vendido\", ascending=True)\n",
        "\n",
        "x_ordenados = datos_ordenados[[\"precio\", \"edad_del_modelo\", \"km_por_ano\"]]\n",
        "y_ordenados = datos_ordenados[\"vendido\"]\n",
        "datos_ordenados.head()"
      ],
      "execution_count": 11,
      "outputs": [
        {
          "output_type": "execute_result",
          "data": {
            "text/html": [
              "<div>\n",
              "<style scoped>\n",
              "    .dataframe tbody tr th:only-of-type {\n",
              "        vertical-align: middle;\n",
              "    }\n",
              "\n",
              "    .dataframe tbody tr th {\n",
              "        vertical-align: top;\n",
              "    }\n",
              "\n",
              "    .dataframe thead th {\n",
              "        text-align: right;\n",
              "    }\n",
              "</style>\n",
              "<table border=\"1\" class=\"dataframe\">\n",
              "  <thead>\n",
              "    <tr style=\"text-align: right;\">\n",
              "      <th></th>\n",
              "      <th>precio</th>\n",
              "      <th>vendido</th>\n",
              "      <th>edad_del_modelo</th>\n",
              "      <th>km_por_ano</th>\n",
              "    </tr>\n",
              "  </thead>\n",
              "  <tbody>\n",
              "    <tr>\n",
              "      <th>4999</th>\n",
              "      <td>74023.29</td>\n",
              "      <td>0</td>\n",
              "      <td>12</td>\n",
              "      <td>24812.80412</td>\n",
              "    </tr>\n",
              "    <tr>\n",
              "      <th>5322</th>\n",
              "      <td>84843.49</td>\n",
              "      <td>0</td>\n",
              "      <td>13</td>\n",
              "      <td>23095.63834</td>\n",
              "    </tr>\n",
              "    <tr>\n",
              "      <th>5319</th>\n",
              "      <td>83100.27</td>\n",
              "      <td>0</td>\n",
              "      <td>19</td>\n",
              "      <td>36240.72746</td>\n",
              "    </tr>\n",
              "    <tr>\n",
              "      <th>5316</th>\n",
              "      <td>87932.13</td>\n",
              "      <td>0</td>\n",
              "      <td>16</td>\n",
              "      <td>32249.56426</td>\n",
              "    </tr>\n",
              "    <tr>\n",
              "      <th>5315</th>\n",
              "      <td>77937.01</td>\n",
              "      <td>0</td>\n",
              "      <td>15</td>\n",
              "      <td>28414.50704</td>\n",
              "    </tr>\n",
              "  </tbody>\n",
              "</table>\n",
              "</div>"
            ],
            "text/plain": [
              "        precio  vendido  edad_del_modelo   km_por_ano\n",
              "4999  74023.29        0               12  24812.80412\n",
              "5322  84843.49        0               13  23095.63834\n",
              "5319  83100.27        0               19  36240.72746\n",
              "5316  87932.13        0               16  32249.56426\n",
              "5315  77937.01        0               15  28414.50704"
            ]
          },
          "metadata": {
            "tags": []
          },
          "execution_count": 11
        }
      ]
    },
    {
      "cell_type": "code",
      "metadata": {
        "id": "h07oUhi_KUxu",
        "colab": {
          "base_uri": "https://localhost:8080/"
        },
        "outputId": "b65af52c-b90f-4b2a-b48e-63833340764d"
      },
      "source": [
        "cv = KFold(n_splits=10)\n",
        "\n",
        "modelo = DecisionTreeClassifier(max_depth=2)\n",
        "\n",
        "resultados = cross_validate(modelo, x_ordenados, y_ordenados, cv=cv)\n",
        "imprime_resultados(resultados)"
      ],
      "execution_count": 12,
      "outputs": [
        {
          "output_type": "stream",
          "text": [
            "Nuestra media es 57.84\n",
            "Nuestro intervalo de confianza es [34.29, 81.39]\n"
          ],
          "name": "stdout"
        }
      ]
    },
    {
      "cell_type": "code",
      "metadata": {
        "id": "eO48lsgDKocE",
        "colab": {
          "base_uri": "https://localhost:8080/"
        },
        "outputId": "bf58c890-d17f-47be-bd05-081dbded8135"
      },
      "source": [
        "cv = KFold(n_splits=10, shuffle=True)\n",
        "\n",
        "modelo = DecisionTreeClassifier(max_depth=2)\n",
        "\n",
        "resultados = cross_validate(modelo, x_ordenados, y_ordenados, cv=cv)\n",
        "imprime_resultados(resultados)"
      ],
      "execution_count": 13,
      "outputs": [
        {
          "output_type": "stream",
          "text": [
            "Nuestra media es 75.79\n",
            "Nuestro intervalo de confianza es [73.06, 78.52]\n"
          ],
          "name": "stdout"
        }
      ]
    },
    {
      "cell_type": "code",
      "metadata": {
        "id": "8iPTHk_6K5R7",
        "colab": {
          "base_uri": "https://localhost:8080/"
        },
        "outputId": "46078bab-a5bd-4418-d3d3-b1f4d1f52dd1"
      },
      "source": [
        "from sklearn.model_selection import StratifiedKFold\n",
        "\n",
        "cv = StratifiedKFold(n_splits=10)\n",
        "\n",
        "modelo = DecisionTreeClassifier(max_depth=2)\n",
        "\n",
        "resultados = cross_validate(modelo, x_ordenados, y_ordenados, cv=cv)\n",
        "imprime_resultados(resultados)"
      ],
      "execution_count": 14,
      "outputs": [
        {
          "output_type": "stream",
          "text": [
            "Nuestra media es 75.78\n",
            "Nuestro intervalo de confianza es [73.83, 77.73]\n"
          ],
          "name": "stdout"
        }
      ]
    },
    {
      "cell_type": "code",
      "metadata": {
        "id": "e0BM5E3WLYaX",
        "colab": {
          "base_uri": "https://localhost:8080/"
        },
        "outputId": "4a3fd516-beee-4c4d-c428-0c7664385d15"
      },
      "source": [
        "cv = StratifiedKFold(n_splits=10, shuffle=True)\n",
        "\n",
        "modelo = DecisionTreeClassifier(max_depth=2)\n",
        "\n",
        "resultados = cross_validate(modelo, x_ordenados, y_ordenados, cv=cv)\n",
        "imprime_resultados(resultados)"
      ],
      "execution_count": 15,
      "outputs": [
        {
          "output_type": "stream",
          "text": [
            "Nuestra media es 75.78\n",
            "Nuestro intervalo de confianza es [73.36, 78.20]\n"
          ],
          "name": "stdout"
        }
      ]
    },
    {
      "cell_type": "code",
      "metadata": {
        "id": "5Lj68Po-Lh92",
        "colab": {
          "base_uri": "https://localhost:8080/"
        },
        "outputId": "70934b4c-8c0f-410a-d25d-07ed425f92c0"
      },
      "source": [
        "datos.edad_del_modelo"
      ],
      "execution_count": 16,
      "outputs": [
        {
          "output_type": "execute_result",
          "data": {
            "text/plain": [
              "0       18\n",
              "1       20\n",
              "2       12\n",
              "3        3\n",
              "4        4\n",
              "        ..\n",
              "9995    12\n",
              "9996    16\n",
              "9997     4\n",
              "9998     7\n",
              "9999    19\n",
              "Name: edad_del_modelo, Length: 10000, dtype: int64"
            ]
          },
          "metadata": {
            "tags": []
          },
          "execution_count": 16
        }
      ]
    },
    {
      "cell_type": "markdown",
      "metadata": {
        "id": "WI1zVAKJeJef"
      },
      "source": [
        "## Creando una columna simulada de modelo de carro"
      ]
    },
    {
      "cell_type": "code",
      "metadata": {
        "id": "hxX6vFz6KEAp",
        "colab": {
          "base_uri": "https://localhost:8080/",
          "height": 195
        },
        "outputId": "a706a981-91b1-4296-d092-54e10c591d02"
      },
      "source": [
        "import numpy as np \n",
        "np.random.seed(1234)\n",
        "datos['modelo'] = datos.edad_del_modelo + np.random.randint(-2, 3, size=len(datos))\n",
        "datos['modelo'] = datos.modelo + abs(min(datos.modelo)) + 1\n",
        "datos.head()"
      ],
      "execution_count": 17,
      "outputs": [
        {
          "output_type": "execute_result",
          "data": {
            "text/html": [
              "<div>\n",
              "<style scoped>\n",
              "    .dataframe tbody tr th:only-of-type {\n",
              "        vertical-align: middle;\n",
              "    }\n",
              "\n",
              "    .dataframe tbody tr th {\n",
              "        vertical-align: top;\n",
              "    }\n",
              "\n",
              "    .dataframe thead th {\n",
              "        text-align: right;\n",
              "    }\n",
              "</style>\n",
              "<table border=\"1\" class=\"dataframe\">\n",
              "  <thead>\n",
              "    <tr style=\"text-align: right;\">\n",
              "      <th></th>\n",
              "      <th>precio</th>\n",
              "      <th>vendido</th>\n",
              "      <th>edad_del_modelo</th>\n",
              "      <th>km_por_ano</th>\n",
              "      <th>modelo</th>\n",
              "    </tr>\n",
              "  </thead>\n",
              "  <tbody>\n",
              "    <tr>\n",
              "      <th>0</th>\n",
              "      <td>30941.02</td>\n",
              "      <td>1</td>\n",
              "      <td>18</td>\n",
              "      <td>35085.22134</td>\n",
              "      <td>21</td>\n",
              "    </tr>\n",
              "    <tr>\n",
              "      <th>1</th>\n",
              "      <td>40557.96</td>\n",
              "      <td>1</td>\n",
              "      <td>20</td>\n",
              "      <td>12622.05362</td>\n",
              "      <td>24</td>\n",
              "    </tr>\n",
              "    <tr>\n",
              "      <th>2</th>\n",
              "      <td>89627.50</td>\n",
              "      <td>0</td>\n",
              "      <td>12</td>\n",
              "      <td>11440.79806</td>\n",
              "      <td>16</td>\n",
              "    </tr>\n",
              "    <tr>\n",
              "      <th>3</th>\n",
              "      <td>95276.14</td>\n",
              "      <td>0</td>\n",
              "      <td>3</td>\n",
              "      <td>43167.32682</td>\n",
              "      <td>3</td>\n",
              "    </tr>\n",
              "    <tr>\n",
              "      <th>4</th>\n",
              "      <td>117384.68</td>\n",
              "      <td>1</td>\n",
              "      <td>4</td>\n",
              "      <td>12770.11290</td>\n",
              "      <td>5</td>\n",
              "    </tr>\n",
              "  </tbody>\n",
              "</table>\n",
              "</div>"
            ],
            "text/plain": [
              "      precio  vendido  edad_del_modelo   km_por_ano  modelo\n",
              "0   30941.02        1               18  35085.22134      21\n",
              "1   40557.96        1               20  12622.05362      24\n",
              "2   89627.50        0               12  11440.79806      16\n",
              "3   95276.14        0                3  43167.32682       3\n",
              "4  117384.68        1                4  12770.11290       5"
            ]
          },
          "metadata": {
            "tags": []
          },
          "execution_count": 17
        }
      ]
    },
    {
      "cell_type": "code",
      "metadata": {
        "id": "XiHAGBdHLGsa",
        "colab": {
          "base_uri": "https://localhost:8080/"
        },
        "outputId": "1da81096-1fab-420c-bc28-002dde4d2bd8"
      },
      "source": [
        "datos.modelo.unique()"
      ],
      "execution_count": 18,
      "outputs": [
        {
          "output_type": "execute_result",
          "data": {
            "text/plain": [
              "array([21, 24, 16,  3,  5, 12, 17, 22, 19,  6, 11, 13, 20,  8, 18,  7, 10,\n",
              "       14, 23, 15,  9,  4,  2,  1])"
            ]
          },
          "metadata": {
            "tags": []
          },
          "execution_count": 18
        }
      ]
    },
    {
      "cell_type": "code",
      "metadata": {
        "colab": {
          "base_uri": "https://localhost:8080/"
        },
        "id": "fyXPdrnkfs6_",
        "outputId": "efdaa740-7005-455b-89c3-96e5b8ac5986"
      },
      "source": [
        "from sklearn.model_selection import GroupKFold\n",
        "\n",
        "cv = GroupKFold(n_splits=10)\n",
        "\n",
        "modelo = DecisionTreeClassifier(max_depth=2)\n",
        "\n",
        "resultados = cross_validate(modelo, x, y, cv=cv, groups=datos.modelo)\n",
        "imprime_resultados(resultados)"
      ],
      "execution_count": 19,
      "outputs": [
        {
          "output_type": "stream",
          "text": [
            "Nuestra media es 75.78\n",
            "Nuestro intervalo de confianza es [70.82, 80.74]\n"
          ],
          "name": "stdout"
        }
      ]
    }
  ]
}